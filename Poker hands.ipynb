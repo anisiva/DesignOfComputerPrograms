{
 "nbformat": 4,
 "nbformat_minor": 2,
 "metadata": {
  "language_info": {
   "name": "python",
   "codemirror_mode": {
    "name": "ipython",
    "version": 3
   },
   "version": "3.7.3-final"
  },
  "orig_nbformat": 2,
  "file_extension": ".py",
  "mimetype": "text/x-python",
  "name": "python",
  "npconvert_exporter": "python",
  "pygments_lexer": "ipython3",
  "version": 3,
  "kernelspec": {
   "name": "python3",
   "display_name": "Python 3"
  }
 },
 "cells": [
  {
   "cell_type": "code",
   "execution_count": 8,
   "metadata": {},
   "outputs": [
    {
     "output_type": "error",
     "ename": "SyntaxError",
     "evalue": "invalid syntax (<ipython-input-8-6afe55e2b1a6>, line 16)",
     "traceback": [
      "\u001b[1;36m  File \u001b[1;32m\"<ipython-input-8-6afe55e2b1a6>\"\u001b[1;36m, line \u001b[1;32m16\u001b[0m\n\u001b[1;33m    print tests()\u001b[0m\n\u001b[1;37m              ^\u001b[0m\n\u001b[1;31mSyntaxError\u001b[0m\u001b[1;31m:\u001b[0m invalid syntax\n"
     ]
    }
   ],
   "source": [
    "def poker(hands):\n",
    "    \"Return the best hand: poker ([hand,...]) => hand\"\n",
    "    return max(hands, key=hand_rank) \n",
    "\n",
    "def hand_rank(hand):\n",
    "    return None #We will be changing this later.\n",
    "\n",
    "def test():\n",
    "    \"Test cases for the fucntions in poker program.\"\n",
    "    sf = \"6C 7C 8C 9C TC\".split()\n",
    "    fk = \"9D 9H 9S 9C 7D\".split()\n",
    "    fh = \"TD TC TH 7C 7D\".split()\n",
    "    assert poker([sf, fk, fh]) == sf \n",
    "    return \"tests pass\"\n",
    "\n",
    "print test()"
   ]
  }
 ]
}